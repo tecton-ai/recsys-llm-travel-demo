{
 "cells": [
  {
   "cell_type": "code",
   "execution_count": 6,
   "id": "e8474cd6-d9f6-4cd7-bdef-618bdbfc9d21",
   "metadata": {},
   "outputs": [],
   "source": [
    "import os\n",
    "os.environ['MY_TECTON_API_KEY']='<redacted>'\n",
    "os.environ['MY_LLM_API_KEY']='<redacted>'\n",
    "\n",
    "import requests, json, os\n",
    "def get_online_feature_data(user_id, workspace_name=\"nl_demo_apply\", fs_name=\"user_service:v1\", context_map=None):\n",
    "    tecton_api_key = os.getenv('MY_TECTON_API_KEY')\n",
    "\n",
    "    url = \"https://community.tecton.ai/api/v1/feature-service/get-features\"\n",
    "\n",
    "    # Define the request payload\n",
    "    payload = {\n",
    "        \"params\": {\n",
    "            \"feature_service_name\": fs_name,\n",
    "            \"join_key_map\": {\n",
    "                \"user_id\": user_id\n",
    "            },\n",
    "            \"workspace_name\": workspace_name,\n",
    "            \"metadata_options\": {\"include_names\": True}\n",
    "        }\n",
    "    }\n",
    "\n",
    "    if context_map:\n",
    "    # Create the request_context_map field using a dictionary comprehension\n",
    "        payload[\"params\"][\"request_context_map\"] = {\n",
    "        field_name: context_map[field_name] for field_name in context_map\n",
    "    }\n",
    "\n",
    "    headers = {\n",
    "    \"Authorization\": f\"Tecton-key {tecton_api_key}\",\n",
    "    \"Content-Type\": \"application/json\"\n",
    "    }\n",
    "\n",
    "    # Send the POST request\n",
    "    response = requests.post(url, json=payload, headers=headers)\n",
    "\n",
    "    dict_response = json.loads(response.text)\n",
    "\n",
    "    online_features_map = {}\n",
    "    try: \n",
    "        for i, field_name in enumerate(dict_response['metadata']['features']):\n",
    "            online_features_map[field_name['name']] = dict_response['result']['features'][i]\n",
    "    except KeyError as e: \n",
    "        print(dict_response)\n",
    "\n",
    "    return dict_response, online_features_map\n",
    "\n",
    "import json\n",
    "from urllib import request, error\n",
    "import time\n",
    "\n",
    "def get_travel_recommendation(context):\n",
    "    # Replace 'your_api_endpoint' with the actual GPT API endpoint you're using.\n",
    "    # Replace 'your_api_key' with your actual API key.\n",
    "    api_endpoint = 'https://api.openai.com/v1/chat/completions'\n",
    "    api_key = os.getenv('MY_LLM_API_KEY')\n",
    "    data = {\n",
    "       \"model\": \"gpt-4\",\n",
    "       \"messages\": [\n",
    "           {\n",
    "               \"role\": \"system\",\n",
    "               \"content\": context }\n",
    "       ]\n",
    "    }\n",
    "\n",
    "    # Convert the data dictionary to a JSON string.\n",
    "    data_json = json.dumps(data).encode('utf-8')\n",
    "\n",
    "    # Prepare the request with the necessary headers.\n",
    "    req = request.Request(api_endpoint, data=data_json)\n",
    "    req.add_header('Content-Type', 'application/json')\n",
    "    req.add_header('Authorization', f'Bearer {api_key}')\n",
    "\n",
    "    max_retries = 3\n",
    "    delay = 1\n",
    "    # Function to make the API call with retry logic\n",
    "\n",
    "    for attempt in range(max_retries):\n",
    "        try:\n",
    "            # Make the request to the API\n",
    "            with request.urlopen(req) as response:\n",
    "                # Read and decode the response\n",
    "                response_body = response.read().decode('utf-8')\n",
    "                return json.loads(response_body)\n",
    "        except error.HTTPError as e:\n",
    "            # You can add more sophisticated error handling here\n",
    "            print(f\"HTTPError: {e.code}\")\n",
    "            print(f\"Content: {e.read().decode('utf-8')}\")\n",
    "        except error.URLError as e:\n",
    "            print(f\"URLError: {e.reason}\")\n",
    "\n",
    "        # Wait for a specified delay before retrying\n",
    "        print(f\"Retrying in {delay} seconds...\")\n",
    "        time.sleep(delay)\n",
    "        return None #no response from API\n",
    "\n",
    "def your_own_recommendation_model(features_dictionary):\n",
    "    #This is where your ML model would analyze the features and compose some candidates to recommend\n",
    "    #for the demo we return a list of 10 candidates \n",
    "    return [\"Amsterdam, Netherlands\", \"Kyoto, Japan\", \"Melbourne, Australia\", \"Copenhagen, Denmark\", \"Barcelona, Spain\", \"Portland, Oregon, USA\", \"Vancouver, Canada\", \"Chiang Mai, Thailand\", \"Berlin, Germany\", \"Buenos Aires, Argentina\"]"
   ]
  },
  {
   "cell_type": "code",
   "execution_count": 5,
   "id": "168663c4-e11a-4f6e-8747-f781e5464817",
   "metadata": {},
   "outputs": [
    {
     "name": "stdout",
     "output_type": "stream",
     "text": [
      "['user_flight_search_fv.departure_date: 2023-12-13', 'user_flight_search_fv.destination_name: Singapore Changi Airport', 'user_flight_search_fv.origin_name: San Francisco International Airport', 'user_flight_search_fv.return_date: 2023-12-27', 'user_home_airport_fv.home_airport_code: SFO', 'user_home_airport_fv.home_airport_name: San Francisco International Airport', \"user_last_trip_completed_fv.destination_name_last_5_365d_1d: ['Narita International Airport']\", \"user_likes_fv.favorite_activity: ['Bicycling', 'Running', 'Food']\"]\n"
     ]
    }
   ],
   "source": [
    "response, features_dictionary = get_online_feature_data(\"demouser123\", fs_name=\"user_service:v1\")\n",
    "feature_context = []\n",
    "for feature_name in features_dictionary: \n",
    "    feature_context.append(feature_name + \": \" + str(features_dictionary[feature_name]))\n",
    "\n",
    "print(feature_context)"
   ]
  },
  {
   "cell_type": "code",
   "execution_count": 7,
   "id": "bb6b1929-0617-432a-ac13-1a18a84a87c6",
   "metadata": {},
   "outputs": [],
   "source": [
    "candidate_list = your_own_recommendation_model(features_dictionary)\n",
    "feature_context.append(\"recommended_cities: \" + str(candidate_list))"
   ]
  },
  {
   "cell_type": "code",
   "execution_count": 8,
   "id": "62095921-cc26-48e6-bb0c-44da48c45acc",
   "metadata": {},
   "outputs": [
    {
     "name": "stdout",
     "output_type": "stream",
     "text": [
      "['user_flight_search_fv.departure_date: 2023-12-13', 'user_flight_search_fv.destination_name: Singapore Changi Airport', 'user_flight_search_fv.origin_name: San Francisco International Airport', 'user_flight_search_fv.return_date: 2023-12-27', 'user_home_airport_fv.home_airport_code: SFO', 'user_home_airport_fv.home_airport_name: San Francisco International Airport', \"user_last_trip_completed_fv.destination_name_last_5_365d_1d: ['Narita International Airport']\", \"user_likes_fv.favorite_activity: ['Bicycling', 'Running', 'Food']\", \"recommended_cities: ['Amsterdam, Netherlands', 'Kyoto, Japan', 'Melbourne, Australia', 'Copenhagen, Denmark', 'Barcelona, Spain', 'Portland, Oregon, USA', 'Vancouver, Canada', 'Chiang Mai, Thailand', 'Berlin, Germany', 'Buenos Aires, Argentina']\"]\n"
     ]
    }
   ],
   "source": [
    "print(feature_context)"
   ]
  },
  {
   "cell_type": "code",
   "execution_count": 9,
   "id": "352997b0-8f6b-4467-984b-f6ad4d0150a9",
   "metadata": {},
   "outputs": [
    {
     "name": "stdout",
     "output_type": "stream",
     "text": [
      "You are a travel agent for my travel website. Use the following context to make a relevant travel recommendation. Constraints: 1. You must select an option from the list of recommended cities provided.2. The recommendation should be based on the place they searched for before, be similar city not far from their search. 3. Include a suggested itinerary of things to do and see. The itinerary should include at least 3 things. 4. No lodging recommendations. Focus on things to do and see. 5. Return your response in valid JSON only which can easily be parsed with json.loads() in Python. No text outside of the JSON: {'recommendation_text':<your full recommendation text here>, 'recommendation_airport': <IATA code for airport for your recommendation>, 'recommendation_destination': <the city you are recommending> 'explanation':<explain why you recommended what you did>}Here is the user context along with recommended cities: user_flight_search_fv.departure_date: 2023-12-13, user_flight_search_fv.destination_name: Singapore Changi Airport, user_flight_search_fv.origin_name: San Francisco International Airport, user_flight_search_fv.return_date: 2023-12-27, user_home_airport_fv.home_airport_code: SFO, user_home_airport_fv.home_airport_name: San Francisco International Airport, user_last_trip_completed_fv.destination_name_last_5_365d_1d: ['Narita International Airport'], user_likes_fv.favorite_activity: ['Bicycling', 'Running', 'Food'], recommended_cities: ['Amsterdam, Netherlands', 'Kyoto, Japan', 'Melbourne, Australia', 'Copenhagen, Denmark', 'Barcelona, Spain', 'Portland, Oregon, USA', 'Vancouver, Canada', 'Chiang Mai, Thailand', 'Berlin, Germany', 'Buenos Aires, Argentina']\n"
     ]
    }
   ],
   "source": [
    "context1 = (\"You are a travel agent for my travel website. Use the following context to make a relevant travel recommendation. Constraints: \"\n",
    "                          \"1. You must select an option from the list of recommended cities provided.\"\n",
    "                          \"2. The recommendation should be based on the place they searched for before, be similar city not far from their search. \"\n",
    "                          \"3. Include a suggested itinerary of things to do and see. The itinerary should include at least 3 things. \"\n",
    "                          \"4. No lodging recommendations. Focus on things to do and see. \"\n",
    "                          \"5. Return your response in valid JSON only which can easily be parsed with json.loads() in Python. No text outside of the JSON: \"\n",
    "                          \"{'recommendation_text':<your full recommendation text here>, \"\n",
    "                          \"'recommendation_airport': <IATA code for airport for your recommendation>, \"\n",
    "                          \"'recommendation_destination': <the city you are recommending> \"\n",
    "                          \"'explanation':<explain why you recommended what you did>}\"\n",
    "                          \"Here is the user context along with recommended cities: \")\n",
    "\n",
    "context1 = context1 + \", \".join(feature_context)\n",
    "\n",
    "print(context1)\n"
   ]
  },
  {
   "cell_type": "code",
   "execution_count": 10,
   "id": "a8608496-ad25-4f03-92ac-536ffd29c638",
   "metadata": {},
   "outputs": [
    {
     "name": "stdout",
     "output_type": "stream",
     "text": [
      "{'recommendation_text': \"Based on your previous search for Singapore and your recent trip to Narita, Japan, we recommend you to explore Kyoto, Japan. As Kyoto is not too far from Singapore, it may complement your travel preferences. Known for its beautiful temples, gardens, and imperial palaces, Kyoto is also a heaven for food lovers! Start your trip with a visit to the iconic Fushimi Inari-taisha Shrine, followed by a peaceful stroll or bike ride along the Philosopher's Path. For your love of food, enjoy a traditional multi-course kaiseki dinner or even participate in a local cooking class.\", 'recommendation_airport': 'KIX', 'recommendation_destination': 'Kyoto, Japan', 'explanation': 'Kyoto was selected because of its proximity to your searched and most recent destinations (Singapore and Narita, Japan respectively). It also caters to your preferred activities like bicycling, running and food.'}\n"
     ]
    }
   ],
   "source": [
    "result = get_travel_recommendation(context1)\n",
    "LLM_response = json.loads(result['choices'][0]['message']['content'])\n",
    "print(LLM_response)"
   ]
  },
  {
   "cell_type": "code",
   "execution_count": 11,
   "id": "c18b5f8f-d43b-4924-a36c-bf0ae95d4b59",
   "metadata": {},
   "outputs": [],
   "source": [
    "overall_recommendation = {}\n",
    "overall_recommendation[\"recommendation\"] = LLM_response[\"recommendation_text\"]\n",
    "overall_recommendation[\"explanation\"] = LLM_response[\"explanation\"]"
   ]
  },
  {
   "cell_type": "code",
   "execution_count": 12,
   "id": "8ec3c43a-cc8d-44ca-bb8e-5c8cdf347dbb",
   "metadata": {},
   "outputs": [
    {
     "name": "stdout",
     "output_type": "stream",
     "text": [
      "[\"get_best_hotels.hotel_recommendations: ['Hotel Mume located at 東山区新門前通梅本町261 in Kyoto, 26. Average rating: 5.0 (based on 8 reviews) Yelp URL: https://www.yelp.com/biz/%E3%83%9B%E3%83%86%E3%83%AB-%E3%83%A0%E3%83%A1-%E4%BA%AC%E9%83%BD%E5%B8%82', 'Shiraume located at 東山区祇園新橋白川畔 in Kyoto, 26. Average rating: 5.0 (based on 12 reviews) Yelp URL: https://www.yelp.com/biz/%E7%99%BD%E6%A2%85-%E4%BA%AC%E9%83%BD%E5%B8%82', 'HOTEL GRACERY KYOTO SANJO located at 中京区六角通寺町東入桜之町420番 in Kyoto, 26. Average rating: 5.0 (based on 8 reviews) Yelp URL: https://www.yelp.com/biz/%E3%83%9B%E3%83%86%E3%83%AB%E3%82%B0%E3%83%AC%E3%82%A4%E3%82%B9%E3%83%AA%E3%83%BC%E4%BA%AC%E9%83%BD%E4%B8%89%E6%9D%A1-%E4%BA%AC%E9%83%BD%E5%B8%82-2']\", 'get_booking_url.booking_url: https://www.kayak.com/flights/SFO-KIX/2023-12-13/2023-12-27?sort=bestflight_a']\n"
     ]
    }
   ],
   "source": [
    "response, features_dictionary = get_online_feature_data(\"demouser123\", fs_name = \"hotel_and_flight_service:v1\", context_map=LLM_response)\n",
    "feature_context = []\n",
    "for feature_name in features_dictionary: \n",
    "    feature_context.append(feature_name + \": \" + str(features_dictionary[feature_name]))\n",
    "print(feature_context)"
   ]
  },
  {
   "cell_type": "code",
   "execution_count": 13,
   "id": "b203c0d2-71b7-470d-979d-5e754d4c0267",
   "metadata": {},
   "outputs": [],
   "source": [
    "context2 = (\"You are a travel agent for my travel website. We generated a list of recommended hotels and a flight booking link based on your recent recommendation. Constraints: \"\n",
    "                          \"1. Recommend each hotel and include some interesting facts or points of interest about them if available. \"\n",
    "                          \"2. Include a call to action to book a flight with the booking link. \"\n",
    "                          \"3. Return your response in valid JSON only which can easily be parsed with json.loads() in Python. No text outside of the JSON: \"\n",
    "                          \"{'recommendation_text':<your full recommendation text here>}\"\n",
    "                          \"Here is the context: \")\n",
    "\n",
    "context2 = context2 + \", \".join(feature_context)"
   ]
  },
  {
   "cell_type": "code",
   "execution_count": 14,
   "id": "b719d2d2-2a1c-4b37-a904-bd7b4bdee5ee",
   "metadata": {},
   "outputs": [
    {
     "name": "stdout",
     "output_type": "stream",
     "text": [
      "{'recommendation_text': \"Here are our top hotel picks for your upcoming visit to Kyoto:\\n\\n1. Hotel Mume: Tucked away in the heart of Kyoto, Hotel Mume offers unparalleled luxury and comfort. It is located at 東山区新門前通梅本町261 in Kyoto 26. The guests have rated this hotel 5.0 out of 5, based on 8 reviews. For more details and guest reviews, check out their Yelp page: https://www.yelp.com/biz/%E3%83%9B%E3%83%86%E3%83%AB-%E3%83%A0%E3%83%A1-%E4%BA%AC%E9%83%BD%E5%B8%82\\n\\n2. Shiraume: This hotel nestled in 東山区祇園新橋白川畔 in Kyoto 26, is equally elegant and guarantees an unforgettable stay. It scored an impressive rating of 5.0 based on 12 guest reviews. Visit their Yelp page here: https://www.yelp.com/biz/%E7%99%BD%E6%A2%85-%E4%BA%AC%E9%83%BD%E5%B8%82\\n\\n3. Hotel Gracery Kyoto Sanjo: Enjoy the perfect blend of modern facilities and traditional aesthetics at this hotel located at 中京区六角通寺町東入桜之町420番 in Kyoto 26. It also maintains a 5.0 rating based on 8 guest reviews. Browse their Yelp page: https://www.yelp.com/biz/%E3%83%9B%E3%83%86%E3%83%AB%E3%82%B0%E3%83%AC%E3%82%A4%E3%82%B9%E3%83%AA%E3%83%BC%E4%BA%AC%E9%83%BD%E4%B8%89%E6%9D%A1-%E4%BA%AC%E9%83%BD%E5%B8%82-2\\n\\nOnce you have your hotel choice set, don't forget to book your flight! Use this link to find the best flight deals for your travel dates: https://www.kayak.com/flights/SFO-KIX/2023-12-13/2023-12-27?sort=bestflight_a\"}\n"
     ]
    }
   ],
   "source": [
    "response = get_travel_recommendation(context2)\n",
    "LLM_response_2 = json.loads(response['choices'][0]['message']['content'])\n",
    "\n",
    "print(LLM_response_2)"
   ]
  },
  {
   "cell_type": "code",
   "execution_count": 15,
   "id": "649bb9a0-4ccc-43e4-a651-d4d5d44ebb98",
   "metadata": {},
   "outputs": [
    {
     "name": "stdout",
     "output_type": "stream",
     "text": [
      "RECOMMENDATION: Based on your previous search for Singapore and your recent trip to Narita, Japan, we recommend you to explore Kyoto, Japan. As Kyoto is not too far from Singapore, it may complement your travel preferences. Known for its beautiful temples, gardens, and imperial palaces, Kyoto is also a heaven for food lovers! Start your trip with a visit to the iconic Fushimi Inari-taisha Shrine, followed by a peaceful stroll or bike ride along the Philosopher's Path. For your love of food, enjoy a traditional multi-course kaiseki dinner or even participate in a local cooking class.\n",
      "\n",
      "EXPLANATION: Kyoto was selected because of its proximity to your searched and most recent destinations (Singapore and Narita, Japan respectively). It also caters to your preferred activities like bicycling, running and food.\n",
      "\n",
      "HOTEL_AND_FLIGHT_REC: Here are our top hotel picks for your upcoming visit to Kyoto:\n",
      "\n",
      "1. Hotel Mume: Tucked away in the heart of Kyoto, Hotel Mume offers unparalleled luxury and comfort. It is located at 東山区新門前通梅本町261 in Kyoto 26. The guests have rated this hotel 5.0 out of 5, based on 8 reviews. For more details and guest reviews, check out their Yelp page: https://www.yelp.com/biz/%E3%83%9B%E3%83%86%E3%83%AB-%E3%83%A0%E3%83%A1-%E4%BA%AC%E9%83%BD%E5%B8%82\n",
      "\n",
      "2. Shiraume: This hotel nestled in 東山区祇園新橋白川畔 in Kyoto 26, is equally elegant and guarantees an unforgettable stay. It scored an impressive rating of 5.0 based on 12 guest reviews. Visit their Yelp page here: https://www.yelp.com/biz/%E7%99%BD%E6%A2%85-%E4%BA%AC%E9%83%BD%E5%B8%82\n",
      "\n",
      "3. Hotel Gracery Kyoto Sanjo: Enjoy the perfect blend of modern facilities and traditional aesthetics at this hotel located at 中京区六角通寺町東入桜之町420番 in Kyoto 26. It also maintains a 5.0 rating based on 8 guest reviews. Browse their Yelp page: https://www.yelp.com/biz/%E3%83%9B%E3%83%86%E3%83%AB%E3%82%B0%E3%83%AC%E3%82%A4%E3%82%B9%E3%83%AA%E3%83%BC%E4%BA%AC%E9%83%BD%E4%B8%89%E6%9D%A1-%E4%BA%AC%E9%83%BD%E5%B8%82-2\n",
      "\n",
      "Once you have your hotel choice set, don't forget to book your flight! Use this link to find the best flight deals for your travel dates: https://www.kayak.com/flights/SFO-KIX/2023-12-13/2023-12-27?sort=bestflight_a\n",
      "\n",
      "FLIGHT_BOOKING_URL: https://www.kayak.com/flights/SFO-KIX/2023-12-13/2023-12-27?sort=bestflight_a\n",
      "\n"
     ]
    }
   ],
   "source": [
    "overall_recommendation[\"hotel_and_flight_rec\"] = LLM_response_2[\"recommendation_text\"]\n",
    "overall_recommendation[\"flight_booking_url\"] = features_dictionary[\"get_booking_url.booking_url\"]\n",
    "\n",
    "for key in overall_recommendation: \n",
    "    print(str(key).upper() + \": \" + overall_recommendation[key] + \"\\n\")"
   ]
  },
  {
   "cell_type": "code",
   "execution_count": 16,
   "id": "aaff1a26-ebb0-488b-99d6-99612a6c4f6a",
   "metadata": {},
   "outputs": [],
   "source": [
    "#putting it all together\n",
    "\n",
    "context1 = (\"You are a travel agent for my travel website. Use the following context to make a relevant travel recommendation. Constraints: \"\n",
    "                          \"1. You must select an option from the list of recommended cities provided.\"\n",
    "                          \"2. The recommendation should be based on the place they searched for before, be similar city not far from their search. \"\n",
    "                          \"3. Include a suggested itinerary of things to do and see. The itinerary should include at least 3 things. \"\n",
    "                          \"4. No lodging recommendations. Focus on things to do and see. \"\n",
    "                          \"5. Return your response in valid JSON only which can easily be parsed with json.loads() in Python. No text outside of the JSON: \"\n",
    "                          \"{'recommendation_text':<your full recommendation text here>, \"\n",
    "                          \"'recommendation_airport': <IATA code for airport for your recommendation>, \"\n",
    "                          \"'recommendation_destination': <the city you are recommending> \"\n",
    "                          \"'explanation':<explain why you recommended what you did>}\"\n",
    "                          \"Here is the user context along with recommended cities: \")\n",
    "\n",
    "context2 = (\"You are a travel agent for my travel website. We generated a list of recommended hotels and a flight booking link based on your recent recommendation. Constraints: \"\n",
    "                          \"1. Recommend each hotel and include some interesting facts or points of interest about them if available. \"\n",
    "                          \"2. Include a call to action to book a flight with the booking link. \"\n",
    "                          \"3. Return your response in valid JSON only which can easily be parsed with json.loads() in Python. No text outside of the JSON: \"\n",
    "                          \"{'recommendation_text':<your full recommendation text here>}\"\n",
    "                          \"Here is the context: \")\n",
    "\n",
    "user_list = [\"demouser123\", \"9tb07o5m\"] #\n",
    "recommendations = [] \n",
    "for user in user_list: \n",
    "    overall_recommendation = {}\n",
    "\n",
    "    #Get initial recommendation and explanation\n",
    "    _, features_dictionary = get_online_feature_data(user, fs_name=\"user_service:v1\")\n",
    "    feature_context = [f\"{feature_name}: {features_dictionary[feature_name]}\" for feature_name in features_dictionary] #feature strings\n",
    "    feature_context.append(\"recommended_cities: \" + str(your_own_recommendation_model(features_dictionary))) #append recommendation candidates\n",
    "    context_combined = context1 + \", \".join(feature_context)\n",
    "    LLM_response = json.loads(get_travel_recommendation(context_combined)['choices'][0]['message']['content'])\n",
    "\n",
    "    #Get hotel and flight booking recommendation\n",
    "    _, features_dictionary2 = get_online_feature_data(user, fs_name = \"hotel_and_flight_service:v1\", context_map=LLM_response)\n",
    "    feature_context2 = [f\"{feature_name}: {features_dictionary2[feature_name]}\" for feature_name in features_dictionary2] #feature strings\n",
    "    context_combined_2 = context2 + \", \".join(feature_context2)\n",
    "    #response = get_travel_recommendation(context2)['choices'][0]['message']['content']\n",
    "    LLM_response_2 = json.loads(get_travel_recommendation(context_combined_2)['choices'][0]['message']['content'])\n",
    "\n",
    "    overall_recommendation[\"recommendation\"] = LLM_response[\"recommendation_text\"]\n",
    "    overall_recommendation[\"explanation\"] = LLM_response[\"explanation\"]\n",
    "    overall_recommendation[\"hotel_and_flight_rec\"] = LLM_response_2[\"recommendation_text\"]\n",
    "    overall_recommendation[\"flight_booking_url\"] = features_dictionary2[\"get_booking_url.booking_url\"]\n",
    "\n",
    "    recommendations.append(overall_recommendation)\n",
    "\n"
   ]
  },
  {
   "cell_type": "code",
   "execution_count": 17,
   "id": "386c73ce-d83d-4ca7-81af-fafc87b78fa6",
   "metadata": {},
   "outputs": [
    {
     "name": "stdout",
     "output_type": "stream",
     "text": [
      "user_id: demouser123\n",
      "RECOMMENDATION: Based on your recent search for flights to Singapore and your activity preferences, I recommend visiting Kyoto, Japan. Not only is it similar to Singapore in its mix of traditional culture and modern attractions, it also offers great opportunities for your favorite activities like bicycling and running, along with a fantastic food scene. Kyoto is a must for any food lover where you can feast on sushi, sashimi, tempura, and the city's famous kaiseki cuisine. For your itinerary, start with a visit to the historical Gion district, known for its traditional wooden machiya houses and Geisha culture. Then, take a bike tour along the Kamo River to the Arashiyama Bamboo Grove, a serene and beautiful place for sightseeing and environmental exploration. Finally, a visit to Kyoto must include the Kiyomizu-dera Temple, a UNESCO World Heritage site, where you can enjoy panoramic views of the city, plus the temple's own unique charm.\n",
      "\n",
      "EXPLANATION: Kyoto was chosen because it shares similarities with Singapore in terms of culture blend and it also caters well to the user's interests of bicycling, running and food. Plus, it's a logical next destination for someone who has recently travelled to Narita, Japan due to proximity and similarity of cultural experience.\n",
      "\n",
      "HOTEL_AND_FLIGHT_REC: Here are our top recommended hotels for your upcoming trip to Kyoto, based on recent reviews:\n",
      "\n",
      "1. **Hotel Mume** located at 東山区新門前通梅本町261. This hotel carries a perfect rating of 5.0 from 8 reviews and is known for its outstanding service and warmth that embodies the spirit of Japanese omotenashi hospitality. Find out more [here](https://www.yelp.com/biz/%E3%83%9B%E3%83%86%E3%83%AB-%E3%83%A0%E3%83%A1-%E4%BA%AC%E9%83%BD%E5%B8%82)\n",
      "\n",
      "2. **Shiraume** located in Kyoto's beautiful 東山区祇園新橋白川畔 area. This hotel carries a perfect rating of 5.0 from 12 reviews, offering an authentic ryokan (traditional Japanese inn) experience whilst maintaining the highest standards of comfort. Find out more [here](https://www.yelp.com/biz/%E7%99%BD%E6%A2%85-%E4%BA%AC%E9%83%BD%E5%B8%82)\n",
      "\n",
      "3. **HOTEL GRACERY KYOTO SANJO** located at 中京区六角通寺町東入桜之町420番. Rated 5.0 based on 8 reviews, this hotel presents a harmonious blend of tradition and contemporary design, ensuring a memorable stay. Find out more [here](https://www.yelp.com/biz/%E3%83%9B%E3%83%86%E3%83%AB%E3%82%B0%E3%83%AC%E3%82%A4%E3%82%B9%E3%83%AA%E3%83%BC%E4%BA%AC%E9%83%BD%E4%B8%89%E6%9D%A1-%E4%BA%AC%E9%83%BD%E5%B8%82-2)\n",
      "\n",
      "Once you've picked your ideal hotel, don't forget to secure your flight. Use [this link](https://www.kayak.com/flights/SFO-KIX/2023-12-13/2023-12-27?sort=bestflight_a) to book your optimal flight via Kayak right away!\n",
      "\n",
      "FLIGHT_BOOKING_URL: https://www.kayak.com/flights/SFO-KIX/2023-12-13/2023-12-27?sort=bestflight_a\n",
      "\n",
      "user_id: 9tb07o5m\n",
      "RECOMMENDATION: Based on your previous destinations and current location, we recommend you to visit Vancouver, Canada. It is a vibrant metropolis that not only is very close to your searched destination, Saint John Airport, but also offers a similar ambiance. With a plethora of outdoor activities, Vancouver is a perfect destination for running enthusiasts. The Stanley Park Seawall is one of the most iconic place to run, and it provides stunning views of the city's waterfront. You can also snorkel at Whytecliff Park, which is known as one of the first Marine Protected Areas in Canada and offers vibrant marine wildlife. Do not miss the Capilano Suspension Bridge for a thrilling walk across its 70 meters high bridge. Finally, visit Granville Island with its unique shopping district and public market that offers local produce, gourmet foods, and unique arts and crafts.\n",
      "\n",
      "EXPLANATION: Based on your favourite activities of running and snorkeling and being not far from your search location, Vancouver, Canada would be a suitable and interesting place for you to visit. Vancouver is known for its parks and marine life, perfect for both your favourite activities.\n",
      "\n",
      "HOTEL_AND_FLIGHT_REC: We recommend the following top-rated hotels for your upcoming trip: \n",
      "\n",
      "1) L'Hermitage Hotel, located at 788 Richards Street, Vancouver, BC. This hotel has an average rating of 4.5 based on 150 reviews and is known for its luxurious suites, rooftop heated saltwater pool and hot tub, and its close proximity to famous Vancouver attractions like the Robson Street shopping district. Check it out here: https://www.yelp.com/biz/l-hermitage-hotel-vancouver. \n",
      "\n",
      "2) Hilton Vancouver Downtown, located at 433 Robson Street, Vancouver, BC. With an average rating of 4.5 based on 21 reviews, this hotel offers modern rooms, a rooftop fitness center, and is within easy reach of the Vancouver Art Gallery. For more details, visit: https://www.yelp.com/biz/hilton-vancouver-downtown-vancouver-6. \n",
      "\n",
      "3) Versante Hotel, located at 8499 Bridgeport Road, Richmond, BC. This hotel also sports an average rating of 4.5 based on 20 reviews. It boasts unique, boutique rooms, a hydrotherapy area and sauna, and is just a few minutes from the heart of Richmond. Find more about it here: https://www.yelp.com/biz/versante-hotel-richmond.\n",
      "\n",
      "Ready to take the next step? You can book your flight through this link: https://www.kayak.com/flights/ZPB-YVR/2024-04-10/2024-05-09?sort=bestflight_a. Safe travels!\n",
      "\n",
      "FLIGHT_BOOKING_URL: https://www.kayak.com/flights/ZPB-YVR/2024-04-10/2024-05-09?sort=bestflight_a\n",
      "\n"
     ]
    }
   ],
   "source": [
    "user_recs = zip(user_list, recommendations)\n",
    "for item in list(user_recs): \n",
    "    print(\"user_id: \" + item[0])\n",
    "    for key in item[1]: \n",
    "        print(str(key).upper() + \": \" + item[1][key] + \"\\n\")"
   ]
  }
 ],
 "metadata": {
  "kernelspec": {
   "display_name": "Python 3 (ipykernel)",
   "language": "python",
   "name": "python3"
  },
  "language_info": {
   "codemirror_mode": {
    "name": "ipython",
    "version": 3
   },
   "file_extension": ".py",
   "mimetype": "text/x-python",
   "name": "python",
   "nbconvert_exporter": "python",
   "pygments_lexer": "ipython3",
   "version": "3.9.11"
  }
 },
 "nbformat": 4,
 "nbformat_minor": 5
}
